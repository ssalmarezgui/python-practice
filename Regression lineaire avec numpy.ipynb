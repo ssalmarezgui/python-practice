{
 "cells": [
  {
   "cell_type": "code",
   "execution_count": 42,
   "id": "6ae8a249",
   "metadata": {},
   "outputs": [],
   "source": [
    "import numpy as np\n",
    "from sklearn.datasets  import make_regression\n",
    "import matplotlib.pyplot as plt"
   ]
  },
  {
   "cell_type": "markdown",
   "id": "b25cb743",
   "metadata": {},
   "source": [
    "# 1.Dataset"
   ]
  },
  {
   "cell_type": "code",
   "execution_count": 43,
   "id": "35e45e4d",
   "metadata": {},
   "outputs": [],
   "source": [
    "x,y=make_regression(n_samples=100,n_features=1,noise=10)"
   ]
  },
  {
   "cell_type": "code",
   "execution_count": 44,
   "id": "fa026843",
   "metadata": {},
   "outputs": [
    {
     "data": {
      "text/plain": [
       "array([ 129.84931148,   50.3267662 ,  -34.30975615,   26.24129558,\n",
       "        -40.35694234,   48.07843866,   81.97595307,  -85.53591357,\n",
       "        -34.97071846,   -9.70107884,  124.02523282,   -3.58349721,\n",
       "        -72.87811011,   32.03194717,  -18.16264279,  -19.01813469,\n",
       "        -50.55946848,  -70.69215338,  -58.78338941,   71.55133154,\n",
       "        -40.05081139,   12.0820008 ,  -50.5078642 ,   -3.54952004,\n",
       "        -14.75243966,  -30.3495311 ,  -19.81871628,   51.45187882,\n",
       "         20.19493196,  134.53859922,  -64.87724652,  -57.56710368,\n",
       "       -132.33610992,  -29.12767677,   -7.56699248, -112.72917162,\n",
       "         59.2657242 ,   27.07178212,  150.98341141,    1.98173259,\n",
       "        -10.36140597,   92.82285102,   11.76430354,   32.96912763,\n",
       "        -41.54967611,   27.08242628,   64.95833453,  -13.35520882,\n",
       "        -94.81076372,    3.14843914, -115.68274156, -121.6594684 ,\n",
       "        -75.58366339,    1.43425124,  100.16422158,  -83.29605398,\n",
       "          3.28473553, -152.03315912, -165.10345025,   37.2272045 ,\n",
       "        111.3201908 , -190.26226349,   20.38209995,  -85.13426408,\n",
       "        -10.14102585,  -81.2885141 ,  -28.32517765,   31.56585296,\n",
       "        -20.34201001,  -25.33982176,   -1.69062781,  -48.16418386,\n",
       "        229.3244494 ,  -31.50011319,  -48.30601801,  -34.43381505,\n",
       "         18.90107834,  -73.73374557,  -14.97343002,  -14.19977845,\n",
       "        -93.01709947,  -68.95840169,  128.98085211,  -72.90218075,\n",
       "         93.28716692,   62.77129968,    4.99592922,  -40.05209492,\n",
       "         -0.41427334, -109.28893515,  -83.15926908,   80.12710411,\n",
       "        104.83853341,  182.04393756,  -59.0145848 , -120.63020347,\n",
       "        155.09069057,   75.86009151, -126.27996654, -152.24968417])"
      ]
     },
     "execution_count": 44,
     "metadata": {},
     "output_type": "execute_result"
    }
   ],
   "source": [
    "y"
   ]
  },
  {
   "cell_type": "code",
   "execution_count": 45,
   "id": "93278b08",
   "metadata": {},
   "outputs": [
    {
     "data": {
      "text/plain": [
       "array([[ 1.25751736e+00],\n",
       "       [ 5.46956783e-01],\n",
       "       [-2.92915841e-01],\n",
       "       [ 4.57654561e-01],\n",
       "       [-3.68649018e-01],\n",
       "       [ 6.68747691e-01],\n",
       "       [ 8.86471140e-01],\n",
       "       [-9.28387670e-01],\n",
       "       [-4.10747547e-01],\n",
       "       [-1.56252717e-01],\n",
       "       [ 1.33969417e+00],\n",
       "       [ 1.14184743e-01],\n",
       "       [-9.11283055e-01],\n",
       "       [ 4.82988331e-01],\n",
       "       [-3.58911787e-01],\n",
       "       [-3.12699802e-01],\n",
       "       [-6.04330630e-01],\n",
       "       [-8.49079503e-01],\n",
       "       [-4.98213906e-01],\n",
       "       [ 7.10049028e-01],\n",
       "       [-3.78959450e-01],\n",
       "       [ 4.90965088e-02],\n",
       "       [-7.26204939e-01],\n",
       "       [-4.86949258e-02],\n",
       "       [ 9.27483392e-02],\n",
       "       [-2.75329333e-01],\n",
       "       [-3.24698509e-01],\n",
       "       [ 5.67741744e-01],\n",
       "       [ 2.74192727e-01],\n",
       "       [ 1.63751612e+00],\n",
       "       [-6.75067302e-01],\n",
       "       [-7.13091700e-01],\n",
       "       [-1.50752167e+00],\n",
       "       [-1.95975475e-01],\n",
       "       [-8.79222998e-02],\n",
       "       [-1.35978950e+00],\n",
       "       [ 6.29389081e-01],\n",
       "       [ 2.56182948e-01],\n",
       "       [ 1.48701468e+00],\n",
       "       [ 6.45734478e-02],\n",
       "       [-5.99834958e-02],\n",
       "       [ 1.07947765e+00],\n",
       "       [ 1.01139164e-01],\n",
       "       [ 4.48185117e-01],\n",
       "       [-5.14682799e-01],\n",
       "       [ 3.08506077e-01],\n",
       "       [ 5.43073635e-01],\n",
       "       [ 1.57884789e-02],\n",
       "       [-9.46761190e-01],\n",
       "       [ 8.63374758e-02],\n",
       "       [-1.27258880e+00],\n",
       "       [-1.26962208e+00],\n",
       "       [-7.80743962e-01],\n",
       "       [-5.90220515e-02],\n",
       "       [ 1.22949337e+00],\n",
       "       [-1.13032604e+00],\n",
       "       [ 1.23286722e-01],\n",
       "       [-1.66163601e+00],\n",
       "       [-1.82795005e+00],\n",
       "       [ 5.13192892e-01],\n",
       "       [ 1.07008287e+00],\n",
       "       [-2.08461661e+00],\n",
       "       [ 2.02231524e-01],\n",
       "       [-8.10535131e-01],\n",
       "       [-3.01966168e-01],\n",
       "       [-1.02382305e+00],\n",
       "       [-3.31779008e-01],\n",
       "       [ 6.11541199e-01],\n",
       "       [-3.16970287e-01],\n",
       "       [-1.64362265e-01],\n",
       "       [-9.88690329e-02],\n",
       "       [-5.92472583e-01],\n",
       "       [ 2.52744410e+00],\n",
       "       [-4.94886647e-01],\n",
       "       [-4.94731228e-01],\n",
       "       [-3.34838600e-01],\n",
       "       [ 1.73132647e-01],\n",
       "       [-7.67799428e-01],\n",
       "       [-1.36318643e-01],\n",
       "       [-2.08879001e-01],\n",
       "       [-9.37383322e-01],\n",
       "       [-6.55870395e-01],\n",
       "       [ 1.28337136e+00],\n",
       "       [-7.76989332e-01],\n",
       "       [ 1.20740829e+00],\n",
       "       [ 8.57318052e-01],\n",
       "       [ 8.06996094e-02],\n",
       "       [-5.44055802e-01],\n",
       "       [-1.71857955e-03],\n",
       "       [-1.16904064e+00],\n",
       "       [-8.00627124e-01],\n",
       "       [ 7.68187651e-01],\n",
       "       [ 1.25003913e+00],\n",
       "       [ 1.90141533e+00],\n",
       "       [-4.60094939e-01],\n",
       "       [-1.51455242e+00],\n",
       "       [ 1.70706028e+00],\n",
       "       [ 9.79033468e-01],\n",
       "       [-1.43074698e+00],\n",
       "       [-1.57054624e+00]])"
      ]
     },
     "execution_count": 45,
     "metadata": {},
     "output_type": "execute_result"
    }
   ],
   "source": [
    "x"
   ]
  },
  {
   "cell_type": "code",
   "execution_count": 46,
   "id": "2b042dfd",
   "metadata": {
    "scrolled": true
   },
   "outputs": [
    {
     "data": {
      "text/plain": [
       "<matplotlib.collections.PathCollection at 0x28f3865a0e0>"
      ]
     },
     "execution_count": 46,
     "metadata": {},
     "output_type": "execute_result"
    },
    {
     "data": {
      "image/png": "[encoded data removed]",
      "text/plain": [
       "<Figure size 640x480 with 1 Axes>"
      ]
     },
     "metadata": {},
     "output_type": "display_data"
    }
   ],
   "source": [
    "plt.scatter(x,y)"
   ]
  },
  {
   "cell_type": "code",
   "execution_count": 47,
   "id": "4c0db66c",
   "metadata": {},
   "outputs": [
    {
     "name": "stdout",
     "output_type": "stream",
     "text": [
      "(100, 1)\n",
      "(100, 1)\n"
     ]
    }
   ],
   "source": [
    "print(x.shape)\n",
    "y=y.reshape(y.shape[0],1)\n",
    "print(y.shape)"
   ]
  },
  {
   "cell_type": "code",
   "execution_count": 48,
   "id": "6625d5c6",
   "metadata": {},
   "outputs": [
    {
     "data": {
      "text/plain": [
       "(100, 2)"
      ]
     },
     "execution_count": 48,
     "metadata": {},
     "output_type": "execute_result"
    }
   ],
   "source": [
    "#matrice X\n",
    "X=np.hstack((x,np.ones(x.shape)))\n",
    "X.shape\n"
   ]
  },
  {
   "cell_type": "code",
   "execution_count": 49,
   "id": "f67c5e9c",
   "metadata": {},
   "outputs": [
    {
     "data": {
      "text/plain": [
       "array([[0.47175291],\n",
       "       [2.67538836]])"
      ]
     },
     "execution_count": 49,
     "metadata": {},
     "output_type": "execute_result"
    }
   ],
   "source": [
    "theta=np.random.randn(2,1)\n",
    "theta.shape\n",
    "theta"
   ]
  },
  {
   "cell_type": "markdown",
   "id": "31d15164",
   "metadata": {},
   "source": [
    "# 2.Modele Lineaire"
   ]
  },
  {
   "cell_type": "code",
   "execution_count": 50,
   "id": "e4f61d4a",
   "metadata": {},
   "outputs": [],
   "source": [
    "def model(X,theta):\n",
    "    return X.dot(theta)"
   ]
  },
  {
   "cell_type": "code",
   "execution_count": 51,
   "id": "de55ec9b",
   "metadata": {},
   "outputs": [
    {
     "data": {
      "text/plain": [
       "[<matplotlib.lines.Line2D at 0x28f394a16c0>]"
      ]
     },
     "execution_count": 51,
     "metadata": {},
     "output_type": "execute_result"
    },
    {
     "data": {
      "image/png": "[encoded data removed]",
      "text/plain": [
       "<Figure size 640x480 with 1 Axes>"
      ]
     },
     "metadata": {},
     "output_type": "display_data"
    }
   ],
   "source": [
    "plt.scatter(x,y)\n",
    "plt.plot(x,model(X,theta),c='r')"
   ]
  },
  {
   "cell_type": "markdown",
   "id": "e4c41731",
   "metadata": {},
   "source": [
    "# 3.fonction cout"
   ]
  },
  {
   "cell_type": "code",
   "execution_count": null,
   "id": "8a237590",
   "metadata": {},
   "outputs": [],
   "source": []
  },
  {
   "cell_type": "code",
   "execution_count": 52,
   "id": "796134e2",
   "metadata": {},
   "outputs": [],
   "source": [
    "def cost_function(X,y,theta):\n",
    "    m=len(y)\n",
    "    return 1/(2*m)*np.sum((model(X,theta)-y)**2)"
   ]
  },
  {
   "cell_type": "code",
   "execution_count": 53,
   "id": "f9aaae1f",
   "metadata": {},
   "outputs": [
    {
     "data": {
      "text/plain": [
       "3182.4905221915333"
      ]
     },
     "execution_count": 53,
     "metadata": {},
     "output_type": "execute_result"
    }
   ],
   "source": [
    "cost_function(X,y,theta)"
   ]
  },
  {
   "cell_type": "markdown",
   "id": "d37239a7",
   "metadata": {},
   "source": [
    "# 4.Gradients et Descente de Gradient"
   ]
  },
  {
   "cell_type": "code",
   "execution_count": 54,
   "id": "fdd5129e",
   "metadata": {},
   "outputs": [],
   "source": [
    "def grad(X,y,theta):\n",
    "    m=len(y)\n",
    "    return 1/m * X.T.dot(model(X,theta)-y)"
   ]
  },
  {
   "cell_type": "code",
   "execution_count": 55,
   "id": "d57f78ba",
   "metadata": {},
   "outputs": [
    {
     "data": {
      "text/plain": [
       "array([[-69.86929209],\n",
       "       [ 11.3634681 ]])"
      ]
     },
     "execution_count": 55,
     "metadata": {},
     "output_type": "execute_result"
    }
   ],
   "source": [
    "grad(X,y,theta)"
   ]
  },
  {
   "cell_type": "code",
   "execution_count": 71,
   "id": "981d5a23",
   "metadata": {},
   "outputs": [],
   "source": [
    "def gradient_descent(X,y,theta,learning_rate,n_iterations):\n",
    "    \n",
    "    cost_history=np.zeros(n_iterations)\n",
    "    \n",
    "    for i in range(0,n_iterations):\n",
    "        theta=theta-learning_rate*grad(X,y,theta)\n",
    "        cost_history[i]=cost_function(X,y,theta)\n",
    "    return theta,cost_history"
   ]
  },
  {
   "cell_type": "markdown",
   "id": "8c7409ee",
   "metadata": {},
   "source": [
    "# 5.Entrainement du modele"
   ]
  },
  {
   "cell_type": "code",
   "execution_count": 72,
   "id": "12de39cf",
   "metadata": {},
   "outputs": [],
   "source": [
    "theta_final,cost_history=gradient_descent(X,y,theta,learning_rate=0.01,n_iterations=1000)"
   ]
  },
  {
   "cell_type": "code",
   "execution_count": 73,
   "id": "f778ba85",
   "metadata": {},
   "outputs": [
    {
     "data": {
      "text/plain": [
       "array([[89.68743097],\n",
       "       [-0.72050398]])"
      ]
     },
     "execution_count": 73,
     "metadata": {},
     "output_type": "execute_result"
    }
   ],
   "source": [
    "theta_final"
   ]
  },
  {
   "cell_type": "code",
   "execution_count": 74,
   "id": "e102afb2",
   "metadata": {},
   "outputs": [
    {
     "data": {
      "text/plain": [
       "[<matplotlib.lines.Line2D at 0x28f3eada350>]"
      ]
     },
     "execution_count": 74,
     "metadata": {},
     "output_type": "execute_result"
    },
    {
     "data": {
      "image/png": "[encoded data removed]",
      "text/plain": [
       "<Figure size 640x480 with 1 Axes>"
      ]
     },
     "metadata": {},
     "output_type": "display_data"
    }
   ],
   "source": [
    "predictions=model(X,theta_final)\n",
    "plt.scatter(x,y)\n",
    "plt.plot(x,predictions,c='r')"
   ]
  },
  {
   "cell_type": "markdown",
   "id": "1f5dd120",
   "metadata": {},
   "source": [
    "# 6.Courbe d'apprentissage"
   ]
  },
  {
   "cell_type": "code",
   "execution_count": 75,
   "id": "ed30757b",
   "metadata": {},
   "outputs": [
    {
     "data": {
      "text/plain": [
       "[<matplotlib.lines.Line2D at 0x28f3eb2ddb0>]"
      ]
     },
     "execution_count": 75,
     "metadata": {},
     "output_type": "execute_result"
    },
    {
     "data": {
      "image/png": "[encoded data removed]",
      "text/plain": [
       "<Figure size 640x480 with 1 Axes>"
      ]
     },
     "metadata": {},
     "output_type": "display_data"
    }
   ],
   "source": [
    "plt.plot(range(1000),cost_history)"
   ]
  },
  {
   "cell_type": "markdown",
   "id": "d1176417",
   "metadata": {},
   "source": [
    "# 7.Coefficient de determination = R squared"
   ]
  },
  {
   "cell_type": "code",
   "execution_count": 79,
   "id": "6732aa69",
   "metadata": {},
   "outputs": [],
   "source": [
    "def R_squared(y,pred):\n",
    "    u=((y-pred)**2).sum()\n",
    "    v=((y-y.mean())**2).sum()\n",
    "    return 1 - (u/v)"
   ]
  },
  {
   "cell_type": "code",
   "execution_count": 80,
   "id": "d29bd961",
   "metadata": {},
   "outputs": [
    {
     "data": {
      "text/plain": [
       "0.9857026890244687"
      ]
     },
     "execution_count": 80,
     "metadata": {},
     "output_type": "execute_result"
    }
   ],
   "source": [
    "R_squared(y,predictions)"
   ]
  },
  {
   "cell_type": "code",
   "execution_count": null,
   "id": "43dac081",
   "metadata": {},
   "outputs": [],
   "source": []
  }
 ],
 "metadata": {
  "kernelspec": {
   "display_name": "Python 3 (ipykernel)",
   "language": "python",
   "name": "python3"
  },
  "language_info": {
   "codemirror_mode": {
    "name": "ipython",
    "version": 3
   },
   "file_extension": ".py",
   "mimetype": "text/x-python",
   "name": "python",
   "nbconvert_exporter": "python",
   "pygments_lexer": "ipython3",
   "version": "3.10.9"
  }
 },
 "nbformat": 4,
 "nbformat_minor": 5
}
